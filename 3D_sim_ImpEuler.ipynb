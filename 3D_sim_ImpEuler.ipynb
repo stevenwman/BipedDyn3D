{
 "cells": [
  {
   "cell_type": "code",
   "execution_count": 3,
   "metadata": {},
   "outputs": [
    {
     "name": "stderr",
     "output_type": "stream",
     "text": [
      "\u001b[32m\u001b[1m  Activating\u001b[22m\u001b[39m project at `~/Desktop/Work/Research/LEGO-project/LEGO-3D_Dyn`\n"
     ]
    }
   ],
   "source": [
    "using Pkg;\n",
    "Pkg.activate(@__DIR__);\n",
    "Pkg.instantiate();"
   ]
  },
  {
   "cell_type": "code",
   "execution_count": 4,
   "metadata": {},
   "outputs": [
    {
     "data": {
      "text/plain": [
       "quat2rot (generic function with 1 method)"
      ]
     },
     "metadata": {},
     "output_type": "display_data"
    }
   ],
   "source": [
    "import ForwardDiff as FD\n",
    "using LinearAlgebra\n",
    "using Plots\n",
    "\n",
    "include(joinpath(@__DIR__,\"helpers/quaternions.jl\"))"
   ]
  },
  {
   "cell_type": "code",
   "execution_count": null,
   "metadata": {},
   "outputs": [],
   "source": [
    "function newton_euler_dynamics_with_gravity(\n",
    "  ᴮstates::Vector, \n",
    "  ᴮforcing::Vector, \n",
    "  params_rb::NamedTuple)\n",
    "\n",
    "  q, ᴮv, ᴮω = ᴮstates[4:7], ᴮstates[8:10], ᴮstates[11:13]\n",
    "  ᴮF, ᴮτ = ᴮforcing[1:3], ᴮforcing[4:6]\n",
    "\n",
    "  Q = quat2rot(q)\n",
    "  m, J, g = params_rb.m, params_rb.J, params_rb.g\n",
    "  ᴺg = [0, 0, -g]\n",
    "  ᴮg = Q' * ᴺg\n",
    "\n",
    "  ᴺṙ = Q * ᴮv\n",
    "  q̇ = (1/2) * L(q) * H * ᴮω\n",
    "  ᴮv̇ = (1/m) * ᴮF + ᴮg - hat(ᴮω) * ᴮv\n",
    "  ᴮω = J  \\ (ᴮτ - hat(ᴮω) * (J * ᴮω))\n",
    "\n",
    "  return [ᴺṙ; q̇; ᴮv̇; ᴮω̇]\n",
    "end\n",
    "\n",
    "function implicit_euler_dynamics_integrate(states::Vector, forcing::Vector, params_rb::NamedTuple, dt::Float64; max_iter=100, tol=1e-6)\n",
    "  next_states = states # initialize next_states guess with the current states\n",
    "  for i in 1:max_iter\n",
    "    next_states_residual = states + newton_euler_dynamics_with_gravity(next_states, forcing, params_rb) * dt\n",
    "    if norm(next_states_residual) < tol\n",
    "      return next_states\n",
    "    end\n",
    "    # newton root finding \n",
    "    # TODO: check this\n",
    "    next_states = next_states - FD.jacobian(next_states -> newton_euler_dynamics_with_gravity(next_states, forcing, params_rb), next_states) \\ next_states_residual\n",
    "  end\n",
    "  throw(\"Implicit Euler dynamics integration did not converge\")\n",
    "end"
   ]
  }
 ],
 "metadata": {
  "kernelspec": {
   "display_name": "Julia 1.8.3",
   "language": "julia",
   "name": "julia-1.8"
  },
  "language_info": {
   "file_extension": ".jl",
   "mimetype": "application/julia",
   "name": "julia",
   "version": "1.8.3"
  }
 },
 "nbformat": 4,
 "nbformat_minor": 2
}
