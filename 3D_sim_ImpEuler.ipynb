{
 "cells": [
  {
   "cell_type": "code",
   "execution_count": 3,
   "metadata": {},
   "outputs": [
    {
     "name": "stderr",
     "output_type": "stream",
     "text": [
      "\u001b[32m\u001b[1m  Activating\u001b[22m\u001b[39m project at `~/Desktop/Work/Research/LEGO-project/LEGO-3D_Dyn`\n"
     ]
    }
   ],
   "source": [
    "using Pkg;\n",
    "Pkg.activate(@__DIR__);\n",
    "Pkg.instantiate();"
   ]
  },
  {
   "cell_type": "code",
   "execution_count": 4,
   "metadata": {},
   "outputs": [
    {
     "data": {
      "text/plain": [
       "quat2rot (generic function with 1 method)"
      ]
     },
     "metadata": {},
     "output_type": "display_data"
    }
   ],
   "source": [
    "import ForwardDiff as FD\n",
    "using LinearAlgebra\n",
    "using Plots\n",
    "\n",
    "include(joinpath(@__DIR__,\"helpers/quaternions.jl\"))"
   ]
  },
  {
   "cell_type": "code",
   "execution_count": null,
   "metadata": {},
   "outputs": [],
   "source": [
    "function newton_euler_dynamics_with_gravity(\n",
    "  q::Vector, \n",
    "  ᴮv::Vecotr, \n",
    "  ᴮω::Vector, \n",
    "  ᴮF::Vector, \n",
    "  ᴮτ::Vector, \n",
    "  params::NamedTuple)\n",
    "\n",
    "  Q = quat2rot(q)\n",
    "  m, J, g = params.m, params.J, params.g\n",
    "  ᴺg = [0, 0, -g]\n",
    "  ᴮg = Q' * ᴺg\n",
    "\n",
    "  ᴺṙ = Q * ᴮv\n",
    "  q̇ = (1/2) * L(q) * H * ᴮω\n",
    "  ᴮv̇ = (1/m) * ᴮF + ᴮg - hat(ᴮω) * ᴮv\n",
    "  ᴮω̇ = J \\ (ᴮτ - hat(ᴮω) * (J * ᴮω))\n",
    "\n",
    "  return [ᴺṙ; q̇; ᴮv̇; ᴮω̇]\n",
    "end"
   ]
  }
 ],
 "metadata": {
  "kernelspec": {
   "display_name": "Julia 1.8.3",
   "language": "julia",
   "name": "julia-1.8"
  },
  "language_info": {
   "file_extension": ".jl",
   "mimetype": "application/julia",
   "name": "julia",
   "version": "1.8.3"
  }
 },
 "nbformat": 4,
 "nbformat_minor": 2
}
