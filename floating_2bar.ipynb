{
 "cells": [
  {
   "cell_type": "code",
   "execution_count": 1,
   "metadata": {},
   "outputs": [
    {
     "name": "stderr",
     "output_type": "stream",
     "text": [
      "\u001b[32m\u001b[1m  Activating\u001b[22m\u001b[39m project at `~/Desktop/Work/Research/LEGO-project/LEGO-3D_Dyn`\n"
     ]
    }
   ],
   "source": [
    "using Pkg;\n",
    "Pkg.activate(@__DIR__);\n",
    "Pkg.instantiate();"
   ]
  },
  {
   "cell_type": "code",
   "execution_count": 2,
   "metadata": {},
   "outputs": [],
   "source": [
    "import ForwardDiff as FD\n",
    "using LinearAlgebra\n",
    "using Plots"
   ]
  },
  {
   "cell_type": "code",
   "execution_count": 22,
   "metadata": {},
   "outputs": [
    {
     "data": {
      "text/plain": [
       "newton_root_finding (generic function with 1 method)"
      ]
     },
     "metadata": {},
     "output_type": "display_data"
    }
   ],
   "source": [
    "function newton_step(func::Function, x0::Vector)::Vector\n",
    "\t# function value at current point\n",
    "  f = func(x0)\n",
    "  # check if function is scalar or vector and calculate the Jacobian accordingly\n",
    "  if length(f) == 1\n",
    "    J = FD.gradient(func, x0)\n",
    "    return x0 .- f[1] / J[1]\n",
    "  else\n",
    "    J = FD.jacobian(func, x0)\n",
    "    return x0 - J \\ f\n",
    "  end \n",
    "end\n",
    "\n",
    "function newton_root_finding(func::Function, x0::Vector; tol=1e-6, max_iter=100)::Vector\n",
    "  x = x0\n",
    "  for i in 1:max_iter\n",
    "\t\t# take newton step\n",
    "    x_new = newton_step(func, x)\n",
    "    if func(x_new) < tol\n",
    "      \n",
    "      return x_new\n",
    "    end\n",
    "    x = x_new\n",
    "  end\n",
    "\tthrow(\"Max iterations reached\")\n",
    "  return x\n",
    "end"
   ]
  },
  {
   "cell_type": "code",
   "execution_count": null,
   "metadata": {},
   "outputs": [],
   "source": [
    "                                                                                                                                                                                                                                                                                                                                                                                                                                                                                                                                                                                                            "
   ]
  }
 ],
 "metadata": {
  "kernelspec": {
   "display_name": "Julia 1.8.3",
   "language": "julia",
   "name": "julia-1.8"
  },
  "language_info": {
   "file_extension": ".jl",
   "mimetype": "application/julia",
   "name": "julia",
   "version": "1.8.3"
  }
 },
 "nbformat": 4,
 "nbformat_minor": 2
}
