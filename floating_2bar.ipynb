{
 "cells": [
  {
   "cell_type": "code",
   "execution_count": 8,
   "metadata": {},
   "outputs": [
    {
     "name": "stderr",
     "output_type": "stream",
     "text": [
      "\u001b[32m\u001b[1m  Activating\u001b[22m\u001b[39m project at `~/Desktop/Work/Research/LEGO-project/LEGO-3D_Dyn`\n"
     ]
    }
   ],
   "source": [
    "using Pkg;\n",
    "Pkg.activate(@__DIR__);\n",
    "Pkg.instantiate();"
   ]
  },
  {
   "cell_type": "code",
   "execution_count": 9,
   "metadata": {},
   "outputs": [],
   "source": [
    "import ForwardDiff as FD\n",
    "using LinearAlgebra\n",
    "using Plots"
   ]
  },
  {
   "cell_type": "markdown",
   "metadata": {},
   "source": [
    "### Newton's method"
   ]
  },
  {
   "cell_type": "code",
   "execution_count": 10,
   "metadata": {},
   "outputs": [
    {
     "data": {
      "text/plain": [
       "newton_root_finding (generic function with 1 method)"
      ]
     },
     "metadata": {},
     "output_type": "display_data"
    }
   ],
   "source": [
    "function newton_step(func::Function, x0::Vector)::Vector\n",
    "\t# function value at current point\n",
    "  f = func(x0)\n",
    "  # check if function is scalar or vector and calculate the Jacobian accordingly\n",
    "  if length(f) == 1\n",
    "    J = FD.gradient(func, x0)\n",
    "    return x0 .- f[1] / J[1]\n",
    "  else\n",
    "    J = FD.jacobian(func, x0)\n",
    "    return x0 - J \\ f\n",
    "  end \n",
    "end\n",
    "\n",
    "function newton_root_finding(func::Function, x0::Vector; tol=1e-6, max_iter=100)::Vector\n",
    "  x = x0\n",
    "  for i in 1:max_iter\n",
    "\t\t# take newton step\n",
    "    x_new = newton_step(func, x)\n",
    "    if func(x_new) < tol\n",
    "      \n",
    "      return x_new\n",
    "    end\n",
    "    x = x_new\n",
    "  end\n",
    "\tthrow(\"Max iterations reached\")\n",
    "  return x\n",
    "end"
   ]
  },
  {
   "cell_type": "markdown",
   "metadata": {},
   "source": [
    "### Quaternions"
   ]
  },
  {
   "cell_type": "code",
   "execution_count": 14,
   "metadata": {},
   "outputs": [
    {
     "data": {
      "text/plain": [
       "quat2rot (generic function with 1 method)"
      ]
     },
     "metadata": {},
     "output_type": "display_data"
    }
   ],
   "source": [
    "function hat(v::Vector)::Matrix\n",
    "  # generate skew symmetric matrix from vector\n",
    "  return [   0  -v[3]  v[2]; \n",
    "           v[3]     0 -v[1];\n",
    "          -v[2]  v[1]     0]\n",
    "end\n",
    "\n",
    "function L(Q::Vector)::Matrix\n",
    "  # left multiply matrix of quaternion Q\n",
    "  s = Q[1] # scalar part\n",
    "  v = Q[2:end] # vector part\n",
    "  return [s -v'; v hat(v) + s*I]\n",
    "end\n",
    "\n",
    "function R(Q::Vector)::Matrix\n",
    "  # right multiply matrix of quaternion Q\n",
    "  s = Q[1] # scalar part\n",
    "  v = Q[2:end] # vector part\n",
    "  return [s -v'; v hat(v) - s*I]\n",
    "end\n",
    "\n",
    "H = [zeros(1,3); I]; # hat map for vectors\n",
    "\n",
    "T = Diagonal([1; -ones(3)]); # quaternion conjugation matrix\n",
    "\n",
    "function G(Q::Vector)::Matrix\n",
    "  # generate attitude jacobian from quaternion Q\n",
    "  return L(Q) * H\n",
    "end\n",
    "\n",
    "function quat2rot(Q::Vector)::Matrix\n",
    "  # convert quaternion to rotation matrix\n",
    "  return H' * L(Q) * R(Q) * H\n",
    "end"
   ]
  },
  {
   "cell_type": "markdown",
   "metadata": {},
   "source": [
    "### Dynamics"
   ]
  },
  {
   "cell_type": "code",
   "execution_count": 13,
   "metadata": {},
   "outputs": [
    {
     "data": {
      "text/plain": [
       "lagrangian (generic function with 2 methods)"
      ]
     },
     "metadata": {},
     "output_type": "display_data"
    }
   ],
   "source": [
    "rigidbody_params = (m=1.0, J=Diagonal([1.0, 1.0, 1.0]), g=9.81) # rigidbody parameters\n",
    "\n",
    "function linear_kinetic_energy(states::NamedTuple, body_params::NamedTuple)::Float64\n",
    "  \"\"\"\n",
    "  # Calculate linear kinetic energy of the system\n",
    "\n",
    "  # Arguments \n",
    "  - `states`: NamedTuple containing states of the system\n",
    "  - `body_params`: NamedTuple containing rigidbody parameters\n",
    "\n",
    "  # Returns\n",
    "  - `T`: linear kinetic energy of the system\n",
    "  \"\"\"\n",
    "\n",
    "  vᴺ = states.vᴺ\n",
    "  m = body_params.m\n",
    "  T = 1/2 * m * vᴺ' * vᴺ # linear kinetic energy\n",
    "  return T\n",
    "end\n",
    "\n",
    "function potential_energy(states::NamedTuple, body_params::NamedTuple)::Float64\n",
    "  \"\"\"\n",
    "  # calculate potential energy of the system\n",
    "\n",
    "  # Arguments\n",
    "  - `states`: NamedTuple containing states of the system\n",
    "  - `body_params`: NamedTuple containing rigidbody parameters\n",
    "\n",
    "  # Returns\n",
    "  - `U`: potential energy of the system\n",
    "  \"\"\"\n",
    "\n",
    "  qᴮ = states.qᴮ\n",
    "  qᴺ = quat2rot(states.ᴺQᴮ) * qᴮ # global orientation\n",
    "  m, g = body_params.m, body_params.g\n",
    "  U = m * g * qᴺ[3] # potential energy\n",
    "  return U\n",
    "end\n",
    "\n",
    "function linear_lagrangian(states::NamedTuple, body_params::NamedTuple)::Float64\n",
    "  \"\"\"\n",
    "  # Calculate linear Lagrangian of the system\n",
    "\n",
    "  # Arguments \n",
    "  - `states`: NamedTuple containing states of the system\n",
    "  - `body_params`: NamedTuple containing rigidbody parameters\n",
    "\n",
    "  # Returns\n",
    "  - `L`: Lagrangian of the system\n",
    "  \"\"\"\n",
    "\n",
    "  linear_L = linear_kinetic_energy(states, body_params) - potential_energy(states, body_params) # Lagrangian\n",
    "  return linear_L\n",
    "end\n",
    "\n",
    "# TODO: fix the derivation of the discrete linear lagangian and start formulating the DEL for angular case\n",
    "\n",
    "function discrete_linear_lagrangian(state_1::NamedTuple, state_2::NamedTuple, body_params::NamedTuple, h::Float64)::Float64\n",
    "  \"\"\"\n",
    "  # Calculate discrete Lagrangian of the system\n",
    "\n",
    "  # Arguments\n",
    "  - `state_1`: NamedTuple containing states of the system at time t\n",
    "  - `state_2`: NamedTuple containing states of the system at time t + h\n",
    "  - `body_params`: NamedTuple containing rigidbody parameters\n",
    "  - `h`: time step\n",
    "\n",
    "  # Returns\n",
    "  - `Ld`: discrete Lagrangian of the system using midpoint integration\n",
    "  \"\"\"\n",
    "\n",
    "  qᴮ_midpoint = 1/2 * (state_1.qᴮ + state_2.qᴮ) # midpoint position\n",
    "  vᴺ_midpoint = (state_2.qᴮ - state_1.qᴮ) / h # velocity\n",
    "  \n",
    "\n",
    "\n",
    "  interpolated_states = (qᴮ=qᴮ_midpoint, vᴺ=vᴺ_midpoint, ᴺQᴮ=state_1.ᴺQᴮ, ωᴮ=state_1.ωᴮ) # interpolated states\n",
    "  Ld = h * lagrangian(interpolated_states, body_params) # discrete Lagrangian\n",
    "  return Ld\n",
    "\n",
    "end"
   ]
  }
 ],
 "metadata": {
  "kernelspec": {
   "display_name": "Julia 1.8.3",
   "language": "julia",
   "name": "julia-1.8"
  },
  "language_info": {
   "file_extension": ".jl",
   "mimetype": "application/julia",
   "name": "julia",
   "version": "1.8.3"
  }
 },
 "nbformat": 4,
 "nbformat_minor": 2
}
