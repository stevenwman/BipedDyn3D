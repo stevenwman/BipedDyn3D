{
 "cells": [
  {
   "cell_type": "code",
   "execution_count": 1,
   "metadata": {},
   "outputs": [
    {
     "name": "stderr",
     "output_type": "stream",
     "text": [
      "\u001b[32m\u001b[1m  Activating\u001b[22m\u001b[39m project at `~/Desktop/Work/Research/LEGO-project/LEGO-3D_Dyn`\n"
     ]
    }
   ],
   "source": [
    "using Pkg;\n",
    "Pkg.activate(@__DIR__);\n",
    "Pkg.instantiate();"
   ]
  },
  {
   "cell_type": "code",
   "execution_count": 2,
   "metadata": {},
   "outputs": [],
   "source": [
    "import ForwardDiff as FD\n",
    "using LinearAlgebra\n",
    "using Plots"
   ]
  },
  {
   "cell_type": "markdown",
   "metadata": {},
   "source": [
    "### Newton's method"
   ]
  },
  {
   "cell_type": "code",
   "execution_count": 22,
   "metadata": {},
   "outputs": [
    {
     "data": {
      "text/plain": [
       "newton_root_finding (generic function with 1 method)"
      ]
     },
     "metadata": {},
     "output_type": "display_data"
    }
   ],
   "source": [
    "function newton_step(func::Function, x0::Vector)::Vector\n",
    "\t# function value at current point\n",
    "  f = func(x0)\n",
    "  # check if function is scalar or vector and calculate the Jacobian accordingly\n",
    "  if length(f) == 1\n",
    "    J = FD.gradient(func, x0)\n",
    "    return x0 .- f[1] / J[1]\n",
    "  else\n",
    "    J = FD.jacobian(func, x0)\n",
    "    return x0 - J \\ f\n",
    "  end \n",
    "end\n",
    "\n",
    "function newton_root_finding(func::Function, x0::Vector; tol=1e-6, max_iter=100)::Vector\n",
    "  x = x0\n",
    "  for i in 1:max_iter\n",
    "\t\t# take newton step\n",
    "    x_new = newton_step(func, x)\n",
    "    if func(x_new) < tol\n",
    "      \n",
    "      return x_new\n",
    "    end\n",
    "    x = x_new\n",
    "  end\n",
    "\tthrow(\"Max iterations reached\")\n",
    "  return x\n",
    "end"
   ]
  },
  {
   "cell_type": "markdown",
   "metadata": {},
   "source": [
    "### Quaternions"
   ]
  },
  {
   "cell_type": "code",
   "execution_count": null,
   "metadata": {},
   "outputs": [],
   "source": [
    "function hat(v::Vector)::Matrix\n",
    "  # generate skew symmetric matrix from vector\n",
    "  return [   0  -v[3]  v[2]; \n",
    "           v[3]     0 -v[1];\n",
    "          -v[2]  v[1]     0]\n",
    "end\n",
    "\n",
    "function L(q::Vector)::Matrix\n",
    "  # left multiply matrix of quaternion q\n",
    "  s = q[1] # scalar part\n",
    "  v = q[2:end] # vector part\n",
    "  return [s -v'; v hat(v) + s*I]\n",
    "\n",
    "function R(q::Vector)::Matrix\n",
    "  # right multiply matrix of quaternion q\n",
    "  s = q[1] # scalar part\n",
    "  v = q[2:end] # vector part\n",
    "  return [s -v'; v hat(v) - s*I]\n",
    "\n",
    "H = [zeros(1,3); I]; # hat map for vectors\n",
    "\n",
    "T = Diagonal([1; -ones(3)]); # quaternion conjugation matrix\n",
    "\n",
    "function G(q::Vector)::Matrix\n",
    "  # generate attitude jacobian from quaternion q\n",
    "  return L(q) * H\n",
    "end\n",
    "\n",
    "function quat2rot(q::Vector)::Matrix\n",
    "  # convert quaternion to rotation matrix\n",
    "  return H' * L(q) * R(q) * H\n",
    "end"
   ]
  },
  {
   "cell_type": "markdown",
   "metadata": {},
   "source": [
    "### Dynamics"
   ]
  },
  {
   "cell_type": "code",
   "execution_count": 16,
   "metadata": {},
   "outputs": [
    {
     "ename": "ErrorException",
     "evalue": "syntax: \"q::q̇\" is not a valid function argument name around /home/sman/Desktop/Work/Research/LEGO-project/LEGO-3D_Dyn/floating_2bar.ipynb:1",
     "output_type": "error",
     "traceback": [
      "syntax: \"q::q̇\" is not a valid function argument name around /home/sman/Desktop/Work/Research/LEGO-project/LEGO-3D_Dyn/floating_2bar.ipynb:1\n",
      "\n",
      "Stacktrace:\n",
      " [1] top-level scope\n",
      "   @ ~/Desktop/Work/Research/LEGO-project/LEGO-3D_Dyn/floating_2bar.ipynb:1"
     ]
    }
   ],
   "source": [
    "function kinetic_energy(q::Vector, v::Vector, Q::Vector, ω::Vector)::Float64\n",
    "  # calculate kinetic energy of the system\n",
    "  return 0\n",
    "end\n",
    "\n",
    "function potential_energy(q::Vector)::Float64\n",
    "  # calculate potential energy of the system\n",
    "  return 0\n",
    "end\n",
    "\n",
    "function Lagrangian(q::Vector, q̇::Vector)::Float64\n",
    "  # Lagrangian of the system\n",
    "  return T(q̇) - U(q)\n",
    "end"
   ]
  },
  {
   "cell_type": "code",
   "execution_count": null,
   "metadata": {},
   "outputs": [],
   "source": []
  }
 ],
 "metadata": {
  "kernelspec": {
   "display_name": "Julia 1.8.3",
   "language": "julia",
   "name": "julia-1.8"
  },
  "language_info": {
   "file_extension": ".jl",
   "mimetype": "application/julia",
   "name": "julia",
   "version": "1.8.3"
  }
 },
 "nbformat": 4,
 "nbformat_minor": 2
}
