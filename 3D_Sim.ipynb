{
 "cells": [
  {
   "cell_type": "code",
   "execution_count": 26,
   "metadata": {},
   "outputs": [
    {
     "name": "stderr",
     "output_type": "stream",
     "text": [
      "\u001b[32m\u001b[1m  Activating\u001b[22m\u001b[39m project at `~/Desktop/Work/Research/LEGO-project/LEGO-3D_Dyn`\n"
     ]
    }
   ],
   "source": [
    "using Pkg;\n",
    "Pkg.activate(@__DIR__);\n",
    "Pkg.instantiate();"
   ]
  },
  {
   "cell_type": "code",
   "execution_count": 27,
   "metadata": {},
   "outputs": [
    {
     "data": {
      "text/plain": [
       "quat2rot (generic function with 1 method)"
      ]
     },
     "metadata": {},
     "output_type": "display_data"
    }
   ],
   "source": [
    "import ForwardDiff as FD\n",
    "using LinearAlgebra\n",
    "using Plots\n",
    "\n",
    "include(joinpath(@__DIR__,\"helpers/DEL_dynamics.jl\"))\n",
    "include(joinpath(@__DIR__,\"helpers/quaternions.jl\"))"
   ]
  },
  {
   "cell_type": "markdown",
   "metadata": {},
   "source": [
    "### Simulation paramters"
   ]
  },
  {
   "cell_type": "code",
   "execution_count": 28,
   "metadata": {},
   "outputs": [],
   "source": [
    "h = 0.01 # 20 Hz\n",
    "T_final = 5 # final time\n",
    "T_hist = Array(0:h:T_final)\n",
    "N = length(T_hist)\n",
    "\n",
    "# model parameters\n",
    "params_link1 = (m=1.0, J=Diagonal([0.1, 1.0, 1.0]), g=0) # rigidbody parameters\n",
    "\n",
    "m1 = params_link1.m\n",
    "J1 = params_link1.J\n",
    "\n",
    "# initial conditions\n",
    "link1_state0 = [0.0, 0.0, 0.0, 1.0, 0.0, 0.0, 0.0] # initial state of the rigidbody\n",
    "link1_vel0 = [0.0, 1.0, 10.0, 0.0, 0.0, 0.0] # initial velocity of the rigidbody\n",
    "link1_momentum0 = vel2mom(link1_vel0, params_link1) # initial momentum of the rigidbody\n",
    "# forcing terms\n",
    "no_forcing = zeros(6) # no external forces\n",
    "\n",
    "# integrate\n",
    "state_hist = zeros(7, N)\n",
    "momentum_hist = zeros(6, N)\n",
    "\n",
    "state_hist[:, 1] = link1_state0\n",
    "momentum_hist[:, 1] = link1_momentum0\n",
    "\n",
    "for i in 2:N\n",
    "  state_hist[:, i], momentum_hist[:, i] = integrator_step(\n",
    "    hcat(momentum_hist[:, i-1]),\n",
    "    hcat(state_hist[:, i-1]),\n",
    "    hcat(no_forcing),\n",
    "    hcat(no_forcing),\n",
    "    [params_link1],\n",
    "    h, \n",
    "    max_iters=100)\n",
    "end"
   ]
  },
  {
   "cell_type": "code",
   "execution_count": 29,
   "metadata": {},
   "outputs": [],
   "source": [
    "plot(state_hist')"
   ]
  },
  {
   "cell_type": "markdown",
   "metadata": {},
   "source": [
    "### Visualization"
   ]
  },
  {
   "cell_type": "code",
   "execution_count": 200,
   "metadata": {},
   "outputs": [],
   "source": [
    "using MeshCat, GeometryBasics, CoordinateTransformations, Rotations\n",
    "\n",
    "vis = Visualizer()\n",
    "render(vis)"
   ]
  },
  {
   "cell_type": "code",
   "execution_count": 203,
   "metadata": {},
   "outputs": [],
   "source": [
    "delete!(vis)\n",
    "\n",
    "green_material = MeshPhongMaterial(color=RGBA(0, 1, 0, 0.8))\n",
    "cylinder1 = Cylinder(Point(-0.5, 0, 0), Point(0.5, 0, 0), 0.1)\n",
    "setobject!(vis[\"cylinder1\"], cylinder1, green_material)\n",
    "\n",
    "\n",
    "for k = 1:N\n",
    "    # set position and attitude\n",
    "    position1 = Translation(state_hist[1:3, k]...)\n",
    "    attitude1 = LinearMap(UnitQuaternion(state_hist[4:7, k]))\n",
    "\n",
    "    settransform!(vis[\"cylinder1\"], compose(position1, attitude1))\n",
    "    sleep(h)\n",
    "end\n"
   ]
  }
 ],
 "metadata": {
  "kernelspec": {
   "display_name": "Julia 1.8.3",
   "language": "julia",
   "name": "julia-1.8"
  },
  "language_info": {
   "file_extension": ".jl",
   "mimetype": "application/julia",
   "name": "julia",
   "version": "1.8.3"
  }
 },
 "nbformat": 4,
 "nbformat_minor": 2
}
